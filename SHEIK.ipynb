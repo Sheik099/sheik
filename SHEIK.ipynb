{
 "cells": [
  {
   "cell_type": "code",
   "execution_count": 3,
   "id": "7ddb5bab",
   "metadata": {},
   "outputs": [
    {
     "name": "stdout",
     "output_type": "stream",
     "text": [
      "[1 2 3 4]\n"
     ]
    }
   ],
   "source": [
    "import numpy as hah\n",
    "a=hah.array([1,2,3,4])\n",
    "print(a)"
   ]
  },
  {
   "cell_type": "code",
   "execution_count": 39,
   "id": "dbe0c012",
   "metadata": {},
   "outputs": [
    {
     "name": "stdout",
     "output_type": "stream",
     "text": [
      "[[ 1  2  3  4]\n",
      " [ 5  6  7  8]\n",
      " [ 9 10 11 12]\n",
      " [13 14 15 16]]\n",
      "THE ELEMENT IN ARRAY IS [[0. 0. 0. 0.]\n",
      " [0. 0. 0. 0.]\n",
      " [0. 0. 0. 0.]]\n",
      "[[7 7 7]\n",
      " [7 7 7]\n",
      " [7 7 7]]\n",
      "[[0.76224245 0.69060033 0.94475643]\n",
      " [0.3647531  0.46106752 0.09017524]\n",
      " [0.19547109 0.83721671 0.50185688]]\n",
      "[10 25 40 55 70 85]\n",
      "[[ 1  2  3  4]\n",
      " [ 5  6  7  8]\n",
      " [ 9 10 11 12]\n",
      " [13 14 15 16]]\n",
      "[ 1  2  3  4  5  6  7  8  9 10 11 12 13 14 15 16]\n",
      "2\n",
      "(4, 4)\n",
      "16\n",
      "int32\n",
      "[[ 1.  2.  3.  4.]\n",
      " [ 5.  6.  7.  8.]\n",
      " [ 9. 10. 11. 12.]\n",
      " [13. 14. 15. 16.]]\n",
      "[[ 1  2  3  4]\n",
      " [ 5  6  7  8]\n",
      " [ 9 10 11 12]\n",
      " [13 14 15 16]]\n",
      "[[ 1  2  3  4]\n",
      " [ 9 10 11 12]]\n"
     ]
    }
   ],
   "source": [
    "import numpy as hah\n",
    "a=hah.array([[1,2,3,4],[5,6,7,8],[9,10,11,12],[13,14,15,16]])\n",
    "print(a)\n",
    "b=hah.zeros((3,4))\n",
    "print(\"THE ELEMENT IN ARRAY IS\",b)\n",
    "c=hah.full((3,3),7)\n",
    "print(c)\n",
    "d=hah.random.random((3,3))\n",
    "print(d)\n",
    "e=hah.arange(10,99,15)\n",
    "print(e)\n",
    "a.reshape(4,4)\n",
    "print(a)\n",
    "f=a.flatten()\n",
    "print(f)\n",
    "print(a.ndim)\n",
    "print(a.shape)\n",
    "print(a.size)\n",
    "print(a.dtype)\n",
    "g=a.astype('f')\n",
    "print(g)\n",
    "print(a)\n",
    "print(a[0:3:2])\n"
   ]
  },
  {
   "cell_type": "code",
   "execution_count": 9,
   "id": "41517d69",
   "metadata": {},
   "outputs": [],
   "source": [
    "import numpy as hah\n",
    "arr=hah.array([[-1,2,0,4],\n",
    "             [4,-0.5,6,0],\n",
    "             [2.6,0,7,8],\n",
    "             [3,-7,4,2.0]])\n"
   ]
  },
  {
   "cell_type": "code",
   "execution_count": 10,
   "id": "2def1707",
   "metadata": {},
   "outputs": [
    {
     "name": "stdout",
     "output_type": "stream",
     "text": [
      "Original array:\n",
      " [[-1.   2.   0.   4. ]\n",
      " [ 4.  -0.5  6.   0. ]\n",
      " [ 2.6  0.   7.   8. ]\n",
      " [ 3.  -7.   4.   2. ]]\n"
     ]
    }
   ],
   "source": [
    "#Original array\n",
    "print(\"Original array:\\n\",arr)\n"
   ]
  },
  {
   "cell_type": "code",
   "execution_count": 11,
   "id": "d4008b01",
   "metadata": {},
   "outputs": [
    {
     "name": "stdout",
     "output_type": "stream",
     "text": [
      "\n",
      "Every other rows:arr[0:3:2]:\n",
      " [[-1.   2.   0.   4. ]\n",
      " [ 2.6  0.   7.   8. ]]\n"
     ]
    }
   ],
   "source": [
    "#return every other rows\n",
    "print(\"\\nEvery other rows:arr[0:3:2]:\\n\",arr[0:3:2])\n"
   ]
  },
  {
   "cell_type": "code",
   "execution_count": 12,
   "id": "06c6dcc0",
   "metadata": {},
   "outputs": [
    {
     "name": "stdout",
     "output_type": "stream",
     "text": [
      "\n",
      "Array with first 2 rows and 3 columns:arr[:2,:3]:\n",
      " [[-1.   2.   0. ]\n",
      " [ 4.  -0.5  6. ]]\n"
     ]
    }
   ],
   "source": [
    "#slicing array\n",
    "temp=arr[:2,:3]\n",
    "print(\"\\nArray with first 2 rows and 3 columns:arr[:2,:3]:\\n\",temp)\n"
   ]
  },
  {
   "cell_type": "code",
   "execution_count": 13,
   "id": "f3d2bbd0",
   "metadata": {},
   "outputs": [
    {
     "name": "stdout",
     "output_type": "stream",
     "text": [
      "\n",
      "Elements at indices(0,3),(1,2),(2,1),(3,0):\n",
      " [4. 6. 0. 3.]\n"
     ]
    }
   ],
   "source": [
    "#integer array indexing example\n",
    "temp=arr[[0,1,2,3],[3,2,1,0]]\n",
    "print(\"\\nElements at indices(0,3),(1,2),(2,1),\"\n",
    "     \"(3,0):\\n\",temp)\n"
   ]
  },
  {
   "cell_type": "code",
   "execution_count": 14,
   "id": "dbaa7f48",
   "metadata": {},
   "outputs": [],
   "source": [
    "#boolean array indexing example\n",
    "cond=arr>2\n"
   ]
  },
  {
   "cell_type": "code",
   "execution_count": 15,
   "id": "81c85a20",
   "metadata": {},
   "outputs": [
    {
     "name": "stdout",
     "output_type": "stream",
     "text": [
      "\n",
      "Elements greater than 2:\n",
      " [4.  4.  6.  2.6 7.  8.  3.  4. ]\n"
     ]
    }
   ],
   "source": [
    "#cond is a bollean array\n",
    "temp=arr[cond]\n",
    "print(\"\\nElements greater than 2:\\n\",temp)\n"
   ]
  },
  {
   "cell_type": "code",
   "execution_count": 16,
   "id": "8d3149df",
   "metadata": {},
   "outputs": [
    {
     "name": "stdout",
     "output_type": "stream",
     "text": [
      "\n",
      "original array: [1 2 3 4 5 6 7]\n",
      "\n",
      "Return every other element from the entire array:arr[::2]: [1 3 5 7]\n"
     ]
    }
   ],
   "source": [
    "#Return every other element from the entire array:\n",
    "arr=hah.array([1,2,3,4,5,6,7])\n",
    "print(\"\\noriginal array:\",arr)\n",
    "print(\"\\nReturn every other element from the entire array:arr[::2]:\",arr[::2])\n"
   ]
  },
  {
   "cell_type": "code",
   "execution_count": 17,
   "id": "1b2868ee",
   "metadata": {},
   "outputs": [
    {
     "name": "stdout",
     "output_type": "stream",
     "text": [
      "\n",
      "Original arrays:\n",
      " [1 2 3] [4 5 6]\n",
      "\n",
      "Joined array:\n",
      " [1 2 3 4 5 6]\n"
     ]
    }
   ],
   "source": [
    "#joining two array\n",
    "arr1=hah.array([1,2,3])\n",
    "arr2=hah.array([4,5,6])\n",
    "arr=hah.concatenate((arr1,arr2))\n",
    "print(\"\\nOriginal arrays:\\n\",arr1,arr2)\n",
    "print(\"\\nJoined array:\\n\",arr)\n"
   ]
  },
  {
   "cell_type": "code",
   "execution_count": 18,
   "id": "db082cfd",
   "metadata": {},
   "outputs": [
    {
     "name": "stdout",
     "output_type": "stream",
     "text": [
      "\n",
      "Horizontal joining:\n",
      " [1 2 3 4 5 6]\n"
     ]
    }
   ],
   "source": [
    "#Horizontal join\n",
    "arr=hah.hstack((arr1,arr2))\n",
    "print(\"\\nHorizontal joining:\\n\",arr)\n"
   ]
  },
  {
   "cell_type": "code",
   "execution_count": 19,
   "id": "d7b5a290",
   "metadata": {},
   "outputs": [
    {
     "name": "stdout",
     "output_type": "stream",
     "text": [
      "\n",
      "Vertical joining:\n",
      " [[1 2 3]\n",
      " [4 5 6]]\n"
     ]
    }
   ],
   "source": [
    "#Vertical join\n",
    "arr=hah.vstack((arr1,arr2))\n",
    "print(\"\\nVertical joining:\\n\",arr)"
   ]
  },
  {
   "cell_type": "code",
   "execution_count": 22,
   "id": "7a5aacd6",
   "metadata": {},
   "outputs": [
    {
     "name": "stdout",
     "output_type": "stream",
     "text": [
      "\n",
      "Depth joining:\n",
      " [[[1 4]\n",
      "  [2 5]\n",
      "  [3 6]]]\n"
     ]
    }
   ],
   "source": [
    "#Depth join\n",
    "arr=hah.dstack((arr1,arr2))\n",
    "print(\"\\nDepth joining:\\n\",arr)"
   ]
  },
  {
   "cell_type": "code",
   "execution_count": 24,
   "id": "f460488b",
   "metadata": {},
   "outputs": [
    {
     "name": "stdout",
     "output_type": "stream",
     "text": [
      "\n",
      "Original Array:\n",
      " [1 2 3 4 5 6]\n",
      "\n",
      "Splitted array:\n",
      " [array([1, 2]), array([3, 4]), array([5, 6])]\n"
     ]
    }
   ],
   "source": [
    "#splitting array\n",
    "arr=hah.array([1,2,3,4,5,6])\n",
    "newarr=hah.array_split(arr,3)\n",
    "print(\"\\nOriginal Array:\\n\",arr)\n",
    "print(\"\\nSplitted array:\\n\",newarr)"
   ]
  },
  {
   "cell_type": "code",
   "execution_count": 25,
   "id": "38336c40",
   "metadata": {},
   "outputs": [
    {
     "name": "stdout",
     "output_type": "stream",
     "text": [
      "\n",
      "splitted array in another form:\n",
      "\n",
      "[1 2]\n",
      "[3 4]\n",
      "[5 6]\n"
     ]
    }
   ],
   "source": [
    "#Display splitted array in another form\n",
    "print(\"\\nsplitted array in another form:\\n\")\n",
    "print(newarr[0])\n",
    "print(newarr[1])\n",
    "print(newarr[2])"
   ]
  },
  {
   "cell_type": "code",
   "execution_count": 26,
   "id": "87da2780",
   "metadata": {},
   "outputs": [
    {
     "name": "stdout",
     "output_type": "stream",
     "text": [
      "Original array: [2 3 4 5 6 6]\n",
      "\n",
      "Indexes where the value is 4 (array([2], dtype=int64),)\n"
     ]
    }
   ],
   "source": [
    "import numpy as hah\n",
    "#indicies where the value is 4:\n",
    "arr=hah.array([2,3,4,5,6,6])\n",
    "print(\"Original array:\",arr)\n",
    "x=hah.where(arr==4)\n",
    "print(\"\\nIndexes where the value is 4\",x)\n"
   ]
  },
  {
   "cell_type": "code",
   "execution_count": 35,
   "id": "86e9d19f",
   "metadata": {},
   "outputs": [
    {
     "name": "stdout",
     "output_type": "stream",
     "text": [
      "Original array: [2 3 4 5 6 7]\n",
      "\n",
      "Indexes where the values are even (array([0, 2, 4], dtype=int64),)\n"
     ]
    }
   ],
   "source": [
    "\n",
    "#indexes where the values are even:\n",
    "arr=hah.array([2,3,4,5,6,7])\n",
    "x=hah.where(arr%2==0)\n",
    "print(\"Original array:\",arr)\n",
    "print(\"\\nIndexes where the values are even\",x)"
   ]
  },
  {
   "cell_type": "code",
   "execution_count": 29,
   "id": "974df001",
   "metadata": {},
   "outputs": [
    {
     "name": "stdout",
     "output_type": "stream",
     "text": [
      "\n",
      "indexes where the value 3 should be inserted,starting from the right: 1\n"
     ]
    }
   ],
   "source": [
    "#indexes where the value 3 should be inserted,starting from the right\n",
    "x=hah.searchsorted(arr,3,side='left')\n",
    "print(\"\\nindexes where the value 3 should be inserted,starting from the right:\",x)"
   ]
  },
  {
   "cell_type": "code",
   "execution_count": 33,
   "id": "732173dd",
   "metadata": {},
   "outputs": [
    {
     "name": "stdout",
     "output_type": "stream",
     "text": [
      "\n",
      "Original array: [3 2 0 1]\n",
      "\n",
      "Sorted array: [0 1 2 3]\n",
      "\n",
      "Original array: [[3 2 4]\n",
      " [5 0 1]]\n",
      "\n",
      "Sorted array: [[2 3 4]\n",
      " [0 1 5]]\n"
     ]
    }
   ],
   "source": [
    "#Sorting the array\n",
    "arr=hah.array([3,2,0,1])\n",
    "print(\"\\nOriginal array:\",arr)\n",
    "print(\"\\nSorted array:\",hah.sort(arr))\n",
    "arr=hah.array([[3,2,4],[5,0,1]])\n",
    "print(\"\\nOriginal array:\",arr)\n",
    "print(\"\\nSorted array:\",hah.sort(arr))"
   ]
  },
  {
   "cell_type": "code",
   "execution_count": 34,
   "id": "8d355117",
   "metadata": {},
   "outputs": [
    {
     "name": "stdout",
     "output_type": "stream",
     "text": [
      "\n",
      "Original array: [40 41 42 43]\n",
      "\n",
      "Filter index: [True, False, True, False]\n",
      "\n",
      "Filter array: [array([1, 2]), array([3, 4]), array([5, 6])]\n",
      "\n",
      "Original array: [40 41 42 43]\n",
      "\n",
      "Filter array:condition->42: [False False False  True]\n",
      "\n",
      "New array: [43]\n"
     ]
    }
   ],
   "source": [
    "#Filter\n",
    "arr=cat.array([40,41,42,43])\n",
    "x=[True,False,True,False]\n",
    "nrearr=arr[x]\n",
    "print(\"\\nOriginal array:\",arr)\n",
    "print(\"\\nFilter index:\",x)\n",
    "print(\"\\nFilter array:\",newarr)\n",
    "arr=cat.array([40,41,42,43])\n",
    "filter_arr=arr>42\n",
    "newarr=arr[filter_arr]\n",
    "print(\"\\nOriginal array:\",arr)\n",
    "print(\"\\nFilter array:condition->42:\",filter_arr)\n",
    "print(\"\\nNew array:\",newarr)"
   ]
  },
  {
   "cell_type": "code",
   "execution_count": 37,
   "id": "84eb849f",
   "metadata": {},
   "outputs": [
    {
     "name": "stdout",
     "output_type": "stream",
     "text": [
      "Original arrays\n",
      "[10 20 30 40 50]\n",
      "[ 2  4  6  8 10]\n",
      "\n",
      "Vector addition\n",
      "[12 24 36 48 60]\n",
      "\n",
      "Vector subtraction\n",
      "[ 8 16 24 32 40]\n",
      "\n",
      "Vector multiplication\n",
      "[ 20  80 180 320 500]\n",
      "\n",
      "Vector division\n",
      "[5. 5. 5. 5. 5.]\n",
      "\n",
      "Vector Dot product\n",
      "1100\n",
      "\n",
      "Scalar multiplication\n",
      "scalar value= 5\n",
      "array= [10 20 30 40 50]\n",
      "result= [ 50 100 150 200 250]\n"
     ]
    }
   ],
   "source": [
    "import numpy as hah\n",
    "arr1=[10,20,30,40,50]\n",
    "arr2=[2,4,6,8,10]\n",
    "a=hah.array(arr1)\n",
    "b=hah.array(arr2)\n",
    "print(\"Original arrays\")\n",
    "print(a)\n",
    "print(b)\n",
    "print(\"\\nVector addition\")\n",
    "print(a+b)\n",
    "print(\"\\nVector subtraction\")\n",
    "print(a-b)\n",
    "print(\"\\nVector multiplication\")\n",
    "print(a*b)\n",
    "print(\"\\nVector division\")\n",
    "print(a/b)\n",
    "print(\"\\nVector Dot product\")\n",
    "print(a.dot(b))\n",
    "print(\"\\nScalar multiplication\")\n",
    "sclr=5\n",
    "print(\"scalar value=\",sclr)\n",
    "print(\"array=\",a)\n",
    "print(\"result=\",a*sclr)\n"
   ]
  },
  {
   "cell_type": "code",
   "execution_count": 11,
   "id": "a5a542bb",
   "metadata": {},
   "outputs": [
    {
     "name": "stdout",
     "output_type": "stream",
     "text": [
      "\n",
      "\n",
      "Numpy.Vectorize method\n",
      "Return x-y if x>y,otherwise return x+y)\n",
      "array1: [10, 4, 20]\n",
      "array2: [2, 3, 30]\n",
      "result: [ 8  1 50]\n"
     ]
    }
   ],
   "source": [
    "#Numpy.Vectorize method\n",
    "def my_func(x,y):\n",
    "        #\"Return x-y if x>y,otherwise return x+y\"\n",
    "    if x>y:\n",
    "        return x-y\n",
    "    else:\n",
    "        return x+y\n",
    "print(\"\\n\\nNumpy.Vectorize method\")\n",
    "print(\"Return x-y if x>y,otherwise return x+y)\")\n",
    "arr1=[10,4,20]\n",
    "arr2=[2,3,30]\n",
    "vec_func=hah.vectorize(my_func)\n",
    "print(\"array1:\",arr1)\n",
    "print(\"array2:\",arr2)\n",
    "print(\"result:\",vec_func(arr1,arr2))"
   ]
  },
  {
   "cell_type": "code",
   "execution_count": 18,
   "id": "4fdc7125",
   "metadata": {
    "scrolled": true
   },
   "outputs": [
    {
     "name": "stdout",
     "output_type": "stream",
     "text": [
      "Empty DataFrame\n",
      "Columns: []\n",
      "Index: []\n",
      "\n",
      "Series to Data Frame\n",
      "\n",
      "      Emp  ID\n",
      "0   Ajith  80\n",
      "1    Jack  90\n",
      "2    Rose  28\n",
      "3   Yatra  57\n",
      "4  Maaraa  49\n",
      "\n",
      "Extracting one column:\n",
      "\n",
      "0     Ajith\n",
      "1      Jack\n",
      "2      Rose\n",
      "3     Yatra\n",
      "4    Maaraa\n",
      "Name: Emp, dtype: object\n",
      "\n",
      "Adding new column:\n",
      "\n",
      "      Emp  ID  Age\n",
      "0   Ajith  80   19\n",
      "1    Jack  90   90\n",
      "2    Rose  28   34\n",
      "3   Yatra  56   67\n",
      "4  Maaraa  89   20\n",
      "\n",
      "Deleting new column:\n",
      "\n",
      "      Emp  ID\n",
      "0   Ajith  80\n",
      "1    Jack  90\n",
      "2    Rose  28\n",
      "3   Yatra  56\n",
      "4  Maaraa  89\n",
      "\n",
      "Extracting the second row:\n",
      "\n",
      "Emp    Jack\n",
      "ID       90\n",
      "Name: 1, dtype: object\n",
      "Slice rows:\n",
      "      Emp  ID\n",
      "1   Jack  90\n",
      "2   Rose  28\n",
      "3  Yatra  56\n",
      "\n",
      "Adding new row values:\n",
      "       Emp   ID\n",
      "0   Ajith   80\n",
      "1    Jack   90\n",
      "2    Rose   28\n",
      "3   Yatra   56\n",
      "4  Maaraa   89\n",
      "0   Vicky  100\n",
      "1  Rashid  109\n",
      "\n",
      "Deleting particular row:\n",
      "       Emp  ID\n",
      "0   Ajith  80\n",
      "1    Jack  90\n",
      "3   Yatra  56\n",
      "4  Maaraa  89\n"
     ]
    },
    {
     "name": "stderr",
     "output_type": "stream",
     "text": [
      "C:\\Users\\Tcs\\AppData\\Local\\Temp\\ipykernel_13604\\2123395490.py:31: FutureWarning: The frame.append method is deprecated and will be removed from pandas in a future version. Use pandas.concat instead.\n",
      "  print(\"\\nAdding new row values:\\n\",result.append(d2))\n"
     ]
    }
   ],
   "source": [
    "import pandas as hah\n",
    "df=hah.DataFrame()\n",
    "print(df)\n",
    "\n",
    "import pandas as hah\n",
    "emp=hah.Series(['Ajith','Jack','Rose','Yatra','Maaraa'])\n",
    "id=hah.Series([80,90,28,57,49])\n",
    "frame={'Emp':emp,'ID':id}\n",
    "result=hah.DataFrame(frame)\n",
    "print(\"\\nSeries to Data Frame\\n\")\n",
    "print(result)\n",
    "\n",
    "print(\"\\nExtracting one column:\\n\")\n",
    "print(result['Emp'])\n",
    "\n",
    "print(\"\\nAdding new column:\\n\")\n",
    "result['ID']=hah.Series([80,90,28,56,89])\n",
    "result['Age']=hah.Series([19,90,34,67,20])\n",
    "print(result)\n",
    "\n",
    "print(\"\\nDeleting new column:\\n\")\n",
    "del result['Age']\n",
    "print(result)\n",
    "\n",
    "print(\"\\nExtracting the second row:\\n\")\n",
    "print(result.loc[1])\n",
    "\n",
    "print(\"Slice rows:\\n\",result[1:4])\n",
    "\n",
    "d2=hah.DataFrame([['Vicky',100],['Rashid',109]],columns=['Emp','ID'])\n",
    "print(\"\\nAdding new row values:\\n\",result.append(d2))\n",
    "\n",
    "print(\"\\nDeleting particular row:\\n\",result.drop(2))\n"
   ]
  },
  {
   "cell_type": "code",
   "execution_count": 19,
   "id": "2e1d04c1",
   "metadata": {},
   "outputs": [
    {
     "name": "stdout",
     "output_type": "stream",
     "text": [
      "DataFrame.apply function:\n",
      "\n",
      "\n",
      "Original DataFrame:\n",
      "    S  R\n",
      "0  3  9\n",
      "1  3  9\n",
      "2  3  9\n",
      "3  3  9\n",
      "\n",
      "Square root of DataFrame:\n",
      "           S    R\n",
      "0  1.732051  3.0\n",
      "1  1.732051  3.0\n",
      "2  1.732051  3.0\n",
      "3  1.732051  3.0\n",
      "\n",
      "Sum of each column:\n",
      " S    12\n",
      "R    36\n",
      "dtype: int64\n",
      "\n",
      "Sum of each row:\n",
      " 0    12\n",
      "1    12\n",
      "2    12\n",
      "3    12\n",
      "dtype: int64\n",
      "\n",
      "Original DataFrame:\n",
      "    X  Y  Z\n",
      "0  2  4  6\n",
      "1  1  3  5\n",
      "2  5  8  7\n",
      "\n",
      "Minimum and Maximum of each column: \n",
      "\n",
      "     X  Y  Z\n",
      "min  1  3  5\n",
      "max  5  8  7\n",
      "\n",
      "DataFrame.Assign function:\n",
      "\n",
      "\n",
      "Original DataFrame:\n",
      "       Emp  ID\n",
      "0   Sheik  88\n",
      "1  Prthzz  70\n",
      "\n",
      "Adding new column:\n",
      "       Emp  ID  Age\n",
      "0   Sheik  88   20\n",
      "1  Prthzz  70   18\n",
      "\n",
      "Adding new column:\n",
      "       Emp  ID  Age     Sex\n",
      "0   Sheik  88   20    Male\n",
      "1  Prthzz  70   18  Female\n",
      "\n",
      "DataFrame Sort function:\n",
      "\n",
      "       col3      col4\n",
      "3  0.288991  1.783999\n",
      "2 -1.224277 -0.153198\n",
      "0 -0.047223  0.018855\n",
      "4 -0.260217  0.246752\n",
      "1 -0.687906 -0.830533\n",
      "\n",
      "Sort index:\n",
      "        col3      col4\n",
      "0 -0.047223  0.018855\n",
      "1 -0.687906 -0.830533\n",
      "2 -1.224277 -0.153198\n",
      "3  0.288991  1.783999\n",
      "4 -0.260217  0.246752\n",
      "\n",
      "Sort Values:\n",
      "        col3      col4\n",
      "2 -1.224277 -0.153198\n",
      "1 -0.687906 -0.830533\n",
      "4 -0.260217  0.246752\n",
      "0 -0.047223  0.018855\n",
      "3  0.288991  1.783999\n",
      "\n",
      "DataFrame.Merge function:\n",
      "\n",
      "   id    Name   sub\n",
      "0   1   Sheik  sub1\n",
      "1   2  prthzz  sub2\n",
      "2   3     Abu  sub4\n",
      "3   4  Vishwa  sub3\n",
      "   id      Name   sub\n",
      "0   1  Nishanth  sub2\n",
      "1   2   Maanesh  sub4\n",
      "2   3       Som  sub3\n",
      "3   4   sooriya  sub5\n",
      "   id  Name_x sub_x    Name_y sub_y\n",
      "0   1   Sheik  sub1  Nishanth  sub2\n",
      "1   2  prthzz  sub2   Maanesh  sub4\n",
      "2   3     Abu  sub4       Som  sub3\n",
      "3   4  Vishwa  sub3   sooriya  sub5\n"
     ]
    }
   ],
   "source": [
    "import pandas as pd\n",
    "import numpy as np\n",
    "print(\"DataFrame.apply function:\\n\")\n",
    "info = pd.DataFrame ([[3, 9]]*4 , columns =['S' ,'R'])\n",
    "print(\"\\nOriginal DataFrame:\\n\", info)\n",
    "print(\"\\nSquare root of DataFrame:\\n\", info.apply(np.sqrt))\n",
    "print(\"\\nSum of each column:\\n\", info.apply(np.sum, axis=0))\n",
    "print(\"\\nSum of each row:\\n\", info.apply(np.sum,axis=1))\n",
    "\n",
    "\n",
    "info=pd.DataFrame([[2,4,6],[1,3,5],[5,8,7]],columns =['X','Y','Z'])\n",
    "print(\"\\nOriginal DataFrame:\\n\", info)\n",
    "print(\"\\nMinimum and Maximum of each column: \\n\")\n",
    "print(info.agg(['min','max']))\n",
    "\n",
    "\n",
    "print(\"\\nDataFrame.Assign function:\\n\")\n",
    "d2 = pd.DataFrame([['Sheik',88], ['Prthzz',70]], columns=['Emp','ID'])\n",
    "print(\"\\nOriginal DataFrame:\\n\",d2)\n",
    "d2['Age']=[20,18]\n",
    "print(\"\\nAdding new column:\\n\",d2)\n",
    "d=d2.assign(Sex=['Male','Female'])\n",
    "print(\"\\nAdding new column:\\n\",d)\n",
    "\n",
    "\n",
    "print(\"\\nDataFrame Sort function:\\n\")\n",
    "info=pd.DataFrame(np.random.randn(5,2),index=[3,2,0,4,1],columns=['col3','col4'])\n",
    "print(info)\n",
    "info2=info.sort_index()\n",
    "print(\"\\nSort index:\\n\",info2)\n",
    "#info = pd.DataFrame({'col3':[7,1,8,3],'col4':[8,12,4,9]})\n",
    "info3 = info.sort_values(by='col3')\n",
    "print(\"\\nSort Values:\\n\",info3)\n",
    "\n",
    "\n",
    "\n",
    "print(\"\\nDataFrame.Merge function:\\n\")\n",
    "left=pd.DataFrame({'id': [1,2,3,4],\n",
    "                    'Name': ['Sheik', 'prthzz', 'Abu', 'Vishwa'],\n",
    "                    'sub': ['sub1', 'sub2', 'sub4','sub3']})\n",
    "\n",
    "right=pd.DataFrame({\n",
    "                    'id':[1,2,3,4],\n",
    "                    'Name': ['Nishanth', 'Maanesh', 'Som', 'sooriya'],\n",
    "                    'sub':['sub2', 'sub4', 'sub3', 'sub5']})\n",
    "print(left)\n",
    "print(right)\n",
    "print(pd.merge(left,right,on=\"id\"))\n"
   ]
  },
  {
   "cell_type": "code",
   "execution_count": 6,
   "id": "804f2058",
   "metadata": {},
   "outputs": [
    {
     "name": "stdout",
     "output_type": "stream",
     "text": [
      "Series from array:\n",
      "0    p\n",
      "1    a\n",
      "2    n\n",
      "3    d\n",
      "4    a\n",
      "5    s\n",
      "dtype: object\n"
     ]
    }
   ],
   "source": [
    "import pandas as pd\n",
    "import numpy as hah\n",
    "#Creating series from array\n",
    "arr=hah.array(['p','a','n','d','a','s'])\n",
    "a=pd.Series(arr)\n",
    "print(\"Series from array:\")\n",
    "print(a)"
   ]
  },
  {
   "cell_type": "code",
   "execution_count": 7,
   "id": "53fc76e7",
   "metadata": {},
   "outputs": [
    {
     "name": "stdout",
     "output_type": "stream",
     "text": [
      "\n",
      "\n",
      "Series from dictionary:\n",
      "\n",
      "x    0.0\n",
      "y    1.0\n",
      "z    2.0\n",
      "dtype: float64\n"
     ]
    }
   ],
   "source": [
    "#Series from dictionary\n",
    "arr={'x':0.,'y':1.,'z':2.}\n",
    "b=pd.Series(arr)\n",
    "print(\"\\n\\nSeries from dictionary:\\n\")\n",
    "print(b)"
   ]
  },
  {
   "cell_type": "code",
   "execution_count": 8,
   "id": "31c5c834",
   "metadata": {},
   "outputs": [
    {
     "name": "stdout",
     "output_type": "stream",
     "text": [
      "\n",
      "Series using scalar\n",
      "\n",
      "0    4\n",
      "1    4\n",
      "2    4\n",
      "3    4\n",
      "dtype: int64\n"
     ]
    }
   ],
   "source": [
    "#Series using scalar\n",
    "x=pd.Series(4,index=[0,1,2,3])\n",
    "print(\"\\nSeries using scalar\\n\")\n",
    "print(x)"
   ]
  },
  {
   "cell_type": "code",
   "execution_count": 11,
   "id": "de6583d6",
   "metadata": {},
   "outputs": [
    {
     "name": "stdout",
     "output_type": "stream",
     "text": [
      "\n",
      "Series through index\n",
      "a    1\n",
      "b    2\n",
      "c    3\n",
      "dtype: int64\n",
      "\n",
      " a series:\n",
      " 0    1\n",
      "1    2\n",
      "2    3\n",
      "3    4\n",
      "dtype: int64\n",
      "\n",
      "Index:\n",
      " RangeIndex(start=0, stop=4, step=1)\n",
      "\n",
      "Values:\n",
      " [1 2 3 4]\n",
      "\n",
      "Shape: (4,)\n",
      "\n",
      "Dimension: 1\n",
      "\n",
      "Size: 4\n"
     ]
    }
   ],
   "source": [
    "#Series through index\n",
    "x=pd.Series([1,2,3],index=['a','b','c'])\n",
    "print(\"\\nSeries through index\")\n",
    "print(x)\n",
    "a=pd.Series(data=[1,2,3,4])\n",
    "print(\"\\n a series:\\n\",a)\n",
    "print(\"\\nIndex:\\n\",a.index)\n",
    "print(\"\\nValues:\\n\",a.values)\n",
    "print(\"\\nShape:\",a.shape)\n",
    "print(\"\\nDimension:\",a.ndim)\n",
    "print(\"\\nSize:\",a.size)"
   ]
  },
  {
   "cell_type": "code",
   "execution_count": 15,
   "id": "0e2faade",
   "metadata": {},
   "outputs": [
    {
     "name": "stdout",
     "output_type": "stream",
     "text": [
      "Get the table data:\n",
      "\n",
      "    First Name  Gender  Start Date Last Login Time  Salary  Bonus %  \\\n",
      "0      Douglas    Male    8/6/1993        12:42 PM   97308    6.945   \n",
      "1       Thomas    Male   3/31/1996         6:53 AM   61933    4.170   \n",
      "2        Maria  Female   4/23/1993        11:17 AM  130590   11.858   \n",
      "3        Jerry    Male    3/4/2005         1:00 PM  138705    9.340   \n",
      "4        Larry    Male   1/24/1998         4:47 PM  101004    1.389   \n",
      "..         ...     ...         ...             ...     ...      ...   \n",
      "995      Henry     NaN  11/23/2014         6:09 AM  132483   16.655   \n",
      "996    Phillip    Male   1/31/1984         6:30 AM   42392   19.675   \n",
      "997    Russell    Male   5/20/2013        12:39 PM   96914    1.421   \n",
      "998      Larry    Male   4/20/2013         4:45 PM   60500   11.985   \n",
      "999     Albert    Male   5/15/2012         6:24 PM  129949   10.169   \n",
      "\n",
      "    Senior Management                  Team  \n",
      "0                True             Marketing  \n",
      "1                True                   NaN  \n",
      "2               False               Finance  \n",
      "3                True               Finance  \n",
      "4                True       Client Services  \n",
      "..                ...                   ...  \n",
      "995             False          Distribution  \n",
      "996             False               Finance  \n",
      "997             False               Product  \n",
      "998             False  Business Development  \n",
      "999              True                 Sales  \n",
      "\n",
      "[1000 rows x 8 columns]\n"
     ]
    }
   ],
   "source": [
    "import pandas as pd\n",
    "d=pd.read_csv(\"E:/SHEIK/employees - employeess.csv\")\n",
    "#Get the table data\n",
    "print(\"Get the table data:\\n\")\n",
    "print(d)\n"
   ]
  },
  {
   "cell_type": "code",
   "execution_count": null,
   "id": "27f6462a",
   "metadata": {},
   "outputs": [],
   "source": []
  }
 ],
 "metadata": {
  "kernelspec": {
   "display_name": "Python 3 (ipykernel)",
   "language": "python",
   "name": "python3"
  },
  "language_info": {
   "codemirror_mode": {
    "name": "ipython",
    "version": 3
   },
   "file_extension": ".py",
   "mimetype": "text/x-python",
   "name": "python",
   "nbconvert_exporter": "python",
   "pygments_lexer": "ipython3",
   "version": "3.9.12"
  },
  "widgets": {
   "application/vnd.jupyter.widget-state+json": {
    "state": {},
    "version_major": 2,
    "version_minor": 0
   }
  }
 },
 "nbformat": 4,
 "nbformat_minor": 5
}
